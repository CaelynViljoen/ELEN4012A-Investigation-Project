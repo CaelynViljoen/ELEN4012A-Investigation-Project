{
 "cells": [
  {
   "cell_type": "markdown",
   "metadata": {},
   "source": [
    "# **APTOS2019 Data Exploration** \n",
    "###### _Dataset obtained from: https://www.kaggle.com/datasets/mariaherrerot/aptos2019/data?select=valid.csv_"
   ]
  },
  {
   "cell_type": "code",
   "execution_count": 1,
   "metadata": {},
   "outputs": [],
   "source": [
    "import pandas as pd\n",
    "import matplotlib.pyplot as plt\n",
    "\n",
    "from PIL import Image\n",
    "from PIL.ExifTags import TAGS\n",
    "import os"
   ]
  },
  {
   "cell_type": "markdown",
   "metadata": {},
   "source": [
    "#### 1. Exploration of CSV Files:"
   ]
  },
  {
   "cell_type": "code",
   "execution_count": 26,
   "metadata": {},
   "outputs": [
    {
     "data": {
      "text/html": [
       "<div>\n",
       "<style scoped>\n",
       "    .dataframe tbody tr th:only-of-type {\n",
       "        vertical-align: middle;\n",
       "    }\n",
       "\n",
       "    .dataframe tbody tr th {\n",
       "        vertical-align: top;\n",
       "    }\n",
       "\n",
       "    .dataframe thead th {\n",
       "        text-align: right;\n",
       "    }\n",
       "</style>\n",
       "<table border=\"1\" class=\"dataframe\">\n",
       "  <thead>\n",
       "    <tr style=\"text-align: right;\">\n",
       "      <th></th>\n",
       "      <th>id_code</th>\n",
       "      <th>diagnosis</th>\n",
       "    </tr>\n",
       "  </thead>\n",
       "  <tbody>\n",
       "    <tr>\n",
       "      <th>0</th>\n",
       "      <td>1ae8c165fd53</td>\n",
       "      <td>2</td>\n",
       "    </tr>\n",
       "    <tr>\n",
       "      <th>1</th>\n",
       "      <td>1b329a127307</td>\n",
       "      <td>1</td>\n",
       "    </tr>\n",
       "    <tr>\n",
       "      <th>2</th>\n",
       "      <td>1b32e1d775ea</td>\n",
       "      <td>4</td>\n",
       "    </tr>\n",
       "    <tr>\n",
       "      <th>3</th>\n",
       "      <td>1b3647865779</td>\n",
       "      <td>0</td>\n",
       "    </tr>\n",
       "    <tr>\n",
       "      <th>4</th>\n",
       "      <td>1b398c0494d1</td>\n",
       "      <td>0</td>\n",
       "    </tr>\n",
       "  </tbody>\n",
       "</table>\n",
       "</div>"
      ],
      "text/plain": [
       "        id_code  diagnosis\n",
       "0  1ae8c165fd53          2\n",
       "1  1b329a127307          1\n",
       "2  1b32e1d775ea          4\n",
       "3  1b3647865779          0\n",
       "4  1b398c0494d1          0"
      ]
     },
     "execution_count": 26,
     "metadata": {},
     "output_type": "execute_result"
    }
   ],
   "source": [
    "# Viewing the first 5 rows of the 'train' csv file\n",
    "\n",
    "train_csv_file_path = 'C:/Users/Kaylin/OneDrive/Documents/Fourth Year IE 2024/Investigation Project/ELEN4012A-Investigation-Project/Data/APTOS-2019 Dataset/train.csv'\n",
    "test_csv_file_path = 'C:/Users/Kaylin/OneDrive/Documents/Fourth Year IE 2024/Investigation Project/ELEN4012A-Investigation-Project/Data/APTOS-2019 Dataset/test.csv'\n",
    "val_csv_file_path = 'C:/Users/Kaylin/OneDrive/Documents/Fourth Year IE 2024/Investigation Project/ELEN4012A-Investigation-Project/Data/APTOS-2019 Dataset/val.csv'\n",
    "\n",
    "train_df = pd.read_csv(train_csv_file_path)\n",
    "test_df = pd.read_csv(test_csv_file_path)\n",
    "val_df = pd.read_csv(val_csv_file_path)\n",
    "\n",
    "train_df.head()"
   ]
  },
  {
   "cell_type": "code",
   "execution_count": 23,
   "metadata": {},
   "outputs": [
    {
     "data": {
      "text/html": [
       "<div>\n",
       "<style scoped>\n",
       "    .dataframe tbody tr th:only-of-type {\n",
       "        vertical-align: middle;\n",
       "    }\n",
       "\n",
       "    .dataframe tbody tr th {\n",
       "        vertical-align: top;\n",
       "    }\n",
       "\n",
       "    .dataframe thead th {\n",
       "        text-align: right;\n",
       "    }\n",
       "</style>\n",
       "<table border=\"1\" class=\"dataframe\">\n",
       "  <thead>\n",
       "    <tr style=\"text-align: right;\">\n",
       "      <th></th>\n",
       "      <th>diagnosis</th>\n",
       "    </tr>\n",
       "  </thead>\n",
       "  <tbody>\n",
       "    <tr>\n",
       "      <th>count</th>\n",
       "      <td>2930.000000</td>\n",
       "    </tr>\n",
       "    <tr>\n",
       "      <th>mean</th>\n",
       "      <td>1.131058</td>\n",
       "    </tr>\n",
       "    <tr>\n",
       "      <th>std</th>\n",
       "      <td>1.295220</td>\n",
       "    </tr>\n",
       "    <tr>\n",
       "      <th>min</th>\n",
       "      <td>0.000000</td>\n",
       "    </tr>\n",
       "    <tr>\n",
       "      <th>25%</th>\n",
       "      <td>0.000000</td>\n",
       "    </tr>\n",
       "    <tr>\n",
       "      <th>50%</th>\n",
       "      <td>1.000000</td>\n",
       "    </tr>\n",
       "    <tr>\n",
       "      <th>75%</th>\n",
       "      <td>2.000000</td>\n",
       "    </tr>\n",
       "    <tr>\n",
       "      <th>max</th>\n",
       "      <td>4.000000</td>\n",
       "    </tr>\n",
       "  </tbody>\n",
       "</table>\n",
       "</div>"
      ],
      "text/plain": [
       "         diagnosis\n",
       "count  2930.000000\n",
       "mean      1.131058\n",
       "std       1.295220\n",
       "min       0.000000\n",
       "25%       0.000000\n",
       "50%       1.000000\n",
       "75%       2.000000\n",
       "max       4.000000"
      ]
     },
     "execution_count": 23,
     "metadata": {},
     "output_type": "execute_result"
    }
   ],
   "source": [
    "# The distrobution of the training data is given below\n",
    "\n",
    "train_df.describe()"
   ]
  },
  {
   "cell_type": "code",
   "execution_count": 55,
   "metadata": {},
   "outputs": [
    {
     "name": "stdout",
     "output_type": "stream",
     "text": [
      "<class 'pandas.core.frame.DataFrame'>\n",
      "RangeIndex: 2930 entries, 0 to 2929\n",
      "Data columns (total 2 columns):\n",
      " #   Column     Non-Null Count  Dtype \n",
      "---  ------     --------------  ----- \n",
      " 0   id_code    2930 non-null   object\n",
      " 1   diagnosis  2930 non-null   int64 \n",
      "dtypes: int64(1), object(1)\n",
      "memory usage: 45.9+ KB\n"
     ]
    }
   ],
   "source": [
    "# Determining if there are any null values\n",
    "train_df.info()\n"
   ]
  },
  {
   "cell_type": "markdown",
   "metadata": {},
   "source": [
    "_No null values found_"
   ]
  },
  {
   "cell_type": "code",
   "execution_count": 41,
   "metadata": {},
   "outputs": [
    {
     "name": "stdout",
     "output_type": "stream",
     "text": [
      "Value counts for diagnosis:\n",
      "           Train  Test  Val\n",
      "diagnosis                  \n",
      "0           1434   199  172\n",
      "1            300    30   40\n",
      "2            808    87  104\n",
      "3            154    17   22\n",
      "4            234    33   28\n",
      "\n",
      "============================\n",
      "\n"
     ]
    }
   ],
   "source": [
    "# Displaying the count for the different diagoses in the train, test and validate datasets\n",
    "\n",
    "for row in ['diagnosis']:\n",
    "    train_counts = train_df[row].value_counts()\n",
    "    test_counts = test_df[row].value_counts()\n",
    "    val_counts = val_df[row].value_counts()\n",
    "    \n",
    "    # Combines the counts into a single DataFrame\n",
    "    counts_df = pd.DataFrame({\n",
    "        'Train': train_counts,\n",
    "        'Test': test_counts,\n",
    "        'Val': val_counts\n",
    "    }).fillna(0).astype(int)  # Fill NaN with 0 and ensure the counts are integers\n",
    "\n",
    "    print(f\"Value counts for {row}:\") # Displays the combined DataFrame\n",
    "    print(counts_df)\n",
    "    print(\"\\n\" + \"=\"*28 + \"\\n\")\n",
    "\n",
    "    "
   ]
  },
  {
   "cell_type": "markdown",
   "metadata": {},
   "source": [
    "_Now, looking at the CSV files in a multiclass state:_"
   ]
  },
  {
   "cell_type": "code",
   "execution_count": 53,
   "metadata": {},
   "outputs": [
    {
     "data": {
      "image/png": "[encoded data removed]",
      "text/plain": [
       "<Figure size 1800x600 with 3 Axes>"
      ]
     },
     "metadata": {},
     "output_type": "display_data"
    }
   ],
   "source": [
    "# Creating Histograms to View the Diagnostic Counts\n",
    "\n",
    "fig, axs = plt.subplots(1, 3, figsize=(18, 6), sharey=True)\n",
    "\n",
    "# Plot histograms for each DataFrame\n",
    "train_df['diagnosis'].value_counts().plot(kind='bar', ax=axs[0], color='skyblue')\n",
    "axs[0].set_title('Train Data')\n",
    "axs[0].set_xlabel('Diagnosis')\n",
    "axs[0].set_ylabel('Count')\n",
    "\n",
    "test_df['diagnosis'].value_counts().plot(kind='bar', ax=axs[1], color='lightgreen')\n",
    "axs[1].set_title('Test Data')\n",
    "axs[1].set_xlabel('Diagnosis')\n",
    "\n",
    "val_df['diagnosis'].value_counts().plot(kind='bar', ax=axs[2], color='salmon')\n",
    "axs[2].set_title('Val Data')\n",
    "axs[2].set_xlabel('Diagnosis')\n",
    "\n",
    "plt.tight_layout() # Adjusts layout for better spacing\n",
    "\n",
    "plt.show()\n"
   ]
  },
  {
   "cell_type": "markdown",
   "metadata": {},
   "source": [
    "_The counts between the different diagnosises are not equal, especially in the training set. This could become problematic in the fairness and generalisation of the model._"
   ]
  },
  {
   "cell_type": "markdown",
   "metadata": {},
   "source": [
    "_Next, looking at the CSV files in a binary state:_"
   ]
  },
  {
   "cell_type": "code",
   "execution_count": 54,
   "metadata": {},
   "outputs": [
    {
     "data": {
      "image/png": "[encoded data removed]",
      "text/plain": [
       "<Figure size 1800x600 with 3 Axes>"
      ]
     },
     "metadata": {},
     "output_type": "display_data"
    }
   ],
   "source": [
    "# Creating Histograms to View the Diagnostic Counts for the Binary Case of Diabetic vs Non-diabetic\n",
    "\n",
    "# Combines diagnosis 1-4 into a single, diabetic category\n",
    "def combine_diagnoses(df):\n",
    "    df['diagnosis'] = df['diagnosis'].replace([1, 2, 3, 4], 'Diabetic')\n",
    "    df['diagnosis'] = df['diagnosis'].replace([0], 'Non-diabetic')\n",
    "    return df\n",
    "\n",
    "# Applies the function to each dataset\n",
    "train_df_combined = combine_diagnoses(train_df.copy())\n",
    "test_df_combined = combine_diagnoses(test_df.copy())\n",
    "val_df_combined = combine_diagnoses(val_df.copy())\n",
    "\n",
    "fig, axs = plt.subplots(1, 3, figsize=(18, 6), sharey=True)\n",
    "\n",
    "# Plot histograms for each DataFrame for the binary case\n",
    "train_df_combined['diagnosis'].value_counts().plot(kind='bar', ax=axs[0], color='skyblue')\n",
    "axs[0].set_title('Train Data (Diabetic vs Non-diabetic)')\n",
    "axs[0].set_xlabel('Diagnosis')\n",
    "axs[0].set_ylabel('Count')\n",
    "\n",
    "test_df_combined['diagnosis'].value_counts().plot(kind='bar', ax=axs[1], color='lightgreen')\n",
    "axs[1].set_title('Test Data (Diabetic vs Non-diabetic)')\n",
    "axs[1].set_xlabel('Diagnosis')\n",
    "\n",
    "val_df_combined['diagnosis'].value_counts().plot(kind='bar', ax=axs[2], color='salmon')\n",
    "axs[2].set_title('Val Data (Diabetic vs Non-diabetic)')\n",
    "axs[2].set_xlabel('Diagnosis')\n",
    "\n",
    "plt.tight_layout()\n",
    "\n",
    "plt.show()"
   ]
  },
  {
   "cell_type": "markdown",
   "metadata": {},
   "source": [
    "_The counts for diabetic vs non-diabetic are similar in all sections of this dataset. This means from a binary standpoint, the data is balanced. This is prefered as it will minimise bias in the model, improve the model generalisation and the model fairness._"
   ]
  },
  {
   "cell_type": "markdown",
   "metadata": {},
   "source": [
    "#### 2. Exploration of Images:"
   ]
  },
  {
   "cell_type": "code",
   "execution_count": 6,
   "metadata": {},
   "outputs": [
    {
     "name": "stdout",
     "output_type": "stream",
     "text": [
      "Metadata for Image:\n",
      "No EXIF metadata found.\n"
     ]
    }
   ],
   "source": [
    "# Looking to see if there is anything within the metadata of the images\n",
    "\n",
    "image_path_1 = 'C:/Users/Kaylin/OneDrive/Documents/Fourth Year IE 2024/Investigation Project/ELEN4012A-Investigation-Project/Data/APTOS-2019 Dataset/train_images/1ae8c165fd53.png'\n",
    "\n",
    "def get_image_metadata(image_path):\n",
    "\n",
    "    image = Image.open(image_path)\n",
    "    \n",
    "    exif_meta_data = image._getexif() # Extracts the metadata\n",
    "    \n",
    "    if exif_meta_data is not None:\n",
    "        # Converts the EXIF data to a more readable format\n",
    "        metadata = {}\n",
    "        for tag, value in exif_meta_data.items():\n",
    "            tag_name = TAGS.get(tag, tag)\n",
    "            metadata[tag_name] = value\n",
    "        return metadata\n",
    "    else:\n",
    "        return \"No EXIF metadata found.\"\n",
    "\n",
    "metadata_1 = get_image_metadata(image_path_1) # Gets the metadata\n",
    "\n",
    "print(\"Metadata for Image:\") # Displays the metadata\n",
    "if isinstance(metadata_1, dict):\n",
    "    for key, value in metadata_1.items():\n",
    "        print(f\"{key}: {value}\")\n",
    "else:\n",
    "    print(metadata_1)\n",
    "\n"
   ]
  },
  {
   "cell_type": "code",
   "execution_count": null,
   "metadata": {},
   "outputs": [],
   "source": [
    "# Displaying the Dimensions and Aspect Ratio for the first 5 images in the Training Folder "
   ]
  },
  {
   "cell_type": "code",
   "execution_count": null,
   "metadata": {},
   "outputs": [],
   "source": [
    "# Displaying the pixel intesisty distrobution for the first 5 images in the Training Folder \n",
    "\n",
    "# (Plot histograms of pixel intesities. Look for patterns like whether the images are mostly dark, mostly bright, or have a full range of intensities)"
   ]
  },
  {
   "cell_type": "code",
   "execution_count": null,
   "metadata": {},
   "outputs": [],
   "source": [
    "# Display the Signal to Noise Ratio and sharpness of the first five images in the training folder. Also determine the average SNR and sharpness of the data.\n",
    "\n",
    "# Maybe look at the SNR for different diagnoses (i.e., see if the averge noise for the different classes, 0-4, is wildly different - plot in histogram)\n",
    "\n",
    "# maybe also look at image texture (either of the first 5 images or average texture for the different classes)"
   ]
  }
 ],
 "metadata": {
  "kernelspec": {
   "display_name": "InvestigationEnv",
   "language": "python",
   "name": "python3"
  },
  "language_info": {
   "codemirror_mode": {
    "name": "ipython",
    "version": 3
   },
   "file_extension": ".py",
   "mimetype": "text/x-python",
   "name": "python",
   "nbconvert_exporter": "python",
   "pygments_lexer": "ipython3",
   "version": "3.12.5"
  }
 },
 "nbformat": 4,
 "nbformat_minor": 2
}
