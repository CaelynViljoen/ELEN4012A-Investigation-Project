{
 "cells": [
  {
   "cell_type": "code",
   "execution_count": 3,
   "metadata": {},
   "outputs": [],
   "source": [
    "import torch\n",
    "from torchvision import models, transforms\n",
    "from torch.utils.data import DataLoader\n",
    "import pandas as pd\n",
    "from PIL import Image\n",
    "import numpy as np\n",
    "from sklearn.metrics import (\n",
    "    accuracy_score,\n",
    "    f1_score,\n",
    "    precision_score,\n",
    "    recall_score,\n",
    "    roc_auc_score,\n",
    "    roc_curve,\n",
    "    precision_recall_curve,\n",
    "    confusion_matrix,\n",
    "    classification_report,\n",
    ")\n",
    "import matplotlib.pyplot as plt\n",
    "import seaborn as sns\n",
    "import torch.nn as nn\n",
    "import torch.optim as optim\n",
    "import os\n",
    "from skimage.feature import local_binary_pattern\n",
    "from skimage import color\n",
    "import cv2"
   ]
  },
  {
   "cell_type": "markdown",
   "metadata": {},
   "source": [
    "#### Function for preprocessing - resizing while keeping the aspect ratio the same"
   ]
  },
  {
   "cell_type": "code",
   "execution_count": 63,
   "metadata": {},
   "outputs": [],
   "source": [
    "# Function to resize and pad the image while preserving the aspect ratio\n",
    "def resize_and_pad_image(img, desired_size=224):\n",
    "    \"\"\"\n",
    "    Resize the image while keeping the aspect ratio and pad it to the desired size.\n",
    "\n",
    "    Parameters:\n",
    "        img (PIL.Image): The input image.\n",
    "        desired_size (int): The size to which the image will be padded (default is 224).\n",
    "\n",
    "    Returns:\n",
    "        PIL.Image: The resized and padded image.\n",
    "    \"\"\"\n",
    "    # Calculates the new size while preserving the aspect ratio\n",
    "    old_size = img.size  # old_size is in (width, height) format\n",
    "    ratio = float(desired_size) / max(old_size)\n",
    "    new_size = tuple([int(x * ratio) for x in old_size])\n",
    "    img = img.resize(new_size, Image.LANCZOS)\n",
    "    \n",
    "    # Create a new image with the desired size and paste the resized image onto the center\n",
    "    new_img = Image.new(\"RGB\", (desired_size, desired_size))\n",
    "    new_img.paste(img, ((desired_size - new_size[0]) // 2,\n",
    "                        (desired_size - new_size[1]) // 2))\n",
    "    return new_img"
   ]
  },
  {
   "cell_type": "markdown",
   "metadata": {},
   "source": [
    "#### Function for preprocessing - resizes while maintaining aspect ratio, applies black background and denoises images as well as applies LBP (texture of images)"
   ]
  },
  {
   "cell_type": "code",
   "execution_count": 4,
   "metadata": {},
   "outputs": [],
   "source": [
    "# Function to resize, pad the image while preserving the aspect ratio, apply black background and denoising\n",
    "def preprocess_image(img, desired_size=224):\n",
    "    \"\"\"\n",
    "    Preprocess the image by resizing it while keeping the aspect ratio, padding it with black background,\n",
    "    and applying denoising and texture extraction.\n",
    "\n",
    "    Parameters:\n",
    "        img (PIL.Image): The input image.\n",
    "        desired_size (int): The size to which the image will be padded (default is 224).\n",
    "\n",
    "    Returns:\n",
    "        np.array: The preprocessed image ready for LBP texture extraction.\n",
    "    \"\"\"\n",
    "    # Convert the image to RGB format if not already\n",
    "    img = img.convert(\"RGB\")\n",
    "    \n",
    "    # Resizing the image while preserving the aspect ratio\n",
    "    old_size = img.size  # old_size is in (width, height) format\n",
    "    ratio = float(desired_size) / max(old_size)\n",
    "    new_size = tuple([int(x * ratio) for x in old_size])\n",
    "    img = img.resize(new_size, Image.LANCZOS)\n",
    "    \n",
    "    # Create a new black image with the desired size and paste the resized image onto the center\n",
    "    new_img = Image.new(\"RGB\", (desired_size, desired_size))\n",
    "    new_img.paste(img, ((desired_size - new_size[0]) // 2, (desired_size - new_size[1]) // 2))\n",
    "    \n",
    "    # Convert the image to a numpy array for further processing\n",
    "    image_np = np.array(new_img)\n",
    "\n",
    "    # Convert to grayscale to detect the fundus boundary\n",
    "    gray = cv2.cvtColor(image_np, cv2.COLOR_RGB2GRAY)\n",
    "    \n",
    "    # Threshold the grayscale image to create a binary mask\n",
    "    _, mask = cv2.threshold(gray, 10, 255, cv2.THRESH_BINARY)\n",
    "    # Find the contours of the fundus region\n",
    "    contours, _ = cv2.findContours(mask, cv2.RETR_EXTERNAL, cv2.CHAIN_APPROX_SIMPLE)\n",
    "    # Draw the largest contour (assumed to be the fundus) on the mask\n",
    "    cv2.drawContours(mask, contours, -1, (255, 255, 255), thickness=cv2.FILLED)\n",
    "    # Apply the mask to remove the background in the original image\n",
    "    image_with_black_bg = cv2.bitwise_and(image_np, image_np, mask=mask)\n",
    "    \n",
    "    # Apply Non-Local Means Denoising for effective noise reduction\n",
    "    denoised_image = cv2.fastNlMeansDenoisingColored(image_with_black_bg, None, h=5, templateWindowSize=7, searchWindowSize=21)\n",
    "    \n",
    "    # Convert the denoised image to grayscale and then to uint8 for LBP\n",
    "    gray_image = cv2.cvtColor(denoised_image, cv2.COLOR_RGB2GRAY).astype(np.uint8)\n",
    "    \n",
    "    # Compute the Local Binary Pattern (LBP)\n",
    "    radius = 3\n",
    "    n_points = 8 * radius\n",
    "    lbp = local_binary_pattern(gray_image, n_points, radius, method='uniform')\n",
    "\n",
    "    # Convert LBP to float32 to match PyTorch expectations\n",
    "    lbp = lbp.astype(np.float32)\n",
    "\n",
    "    # Stack the single channel LBP into 3 channels to match the input requirements of the model\n",
    "    lbp_image = np.stack([lbp] * 3, axis=-1)\n",
    "    \n",
    "    return lbp_image"
   ]
  },
  {
   "cell_type": "code",
   "execution_count": 5,
   "metadata": {},
   "outputs": [],
   "source": [
    "# Define the Dataset class\n",
    "class FundusDataset(torch.utils.data.Dataset):\n",
    "    def __init__(self, csv_file, img_dir, transform=None):\n",
    "        self.data_frame = pd.read_csv(csv_file)\n",
    "        self.img_dir = img_dir\n",
    "        self.transform = transform\n",
    "\n",
    "    def __len__(self):\n",
    "        return len(self.data_frame)\n",
    "\n",
    "    def __getitem__(self, idx):\n",
    "        img_name = os.path.join(self.img_dir, self.data_frame.iloc[idx, 0] + \".png\")\n",
    "        image = Image.open(img_name)\n",
    "\n",
    "        # Resize and pad the image while preserving the aspect ratio\n",
    "        #image = resize_and_pad_image(image, desired_size=224) --------------------------------------\n",
    "\n",
    "        # Preprocess the image: resize, pad, apply black background, denoise, and extract LBP texture\n",
    "        image = preprocess_image(image, desired_size=224) # ----------------------------\n",
    "\n",
    "        label = self.data_frame.iloc[idx, 1]\n",
    "\n",
    "        if self.transform:\n",
    "            image = self.transform(image)\n",
    "\n",
    "        return image, label"
   ]
  },
  {
   "cell_type": "code",
   "execution_count": 6,
   "metadata": {},
   "outputs": [],
   "source": [
    "# Define the image transformations\n",
    "transform = transforms.Compose([\n",
    "    transforms.ToTensor(),  # Convert the image to a tensor\n",
    "    #transforms.Resize((224, 224)) # ---------------------------------------------\n",
    "])\n",
    "\n",
    "# Load the test dataset\n",
    "test_images_directory = os.path.join('..', '..', 'Data', 'APTOS-2019 Dataset', 'test_images')\n",
    "test_csv_file = os.path.join('..', '..', 'Data', 'APTOS-2019 Dataset', 'binary_test.csv')\n",
    "\n",
    "test_dataset = FundusDataset(csv_file=test_csv_file, img_dir=test_images_directory, transform=transform)\n",
    "test_dataloader = DataLoader(test_dataset, batch_size=32, shuffle=False, num_workers=0)"
   ]
  },
  {
   "cell_type": "code",
   "execution_count": 7,
   "metadata": {},
   "outputs": [
    {
     "name": "stderr",
     "output_type": "stream",
     "text": [
      "c:\\Users\\Kaylin\\OneDrive\\Documents\\Fourth Year IE 2024\\Investigation Project\\ELEN4012A-Investigation-Project\\InvestigationEnv\\Lib\\site-packages\\torchvision\\models\\_utils.py:208: UserWarning: The parameter 'pretrained' is deprecated since 0.13 and may be removed in the future, please use 'weights' instead.\n",
      "  warnings.warn(\n",
      "c:\\Users\\Kaylin\\OneDrive\\Documents\\Fourth Year IE 2024\\Investigation Project\\ELEN4012A-Investigation-Project\\InvestigationEnv\\Lib\\site-packages\\torchvision\\models\\_utils.py:223: UserWarning: Arguments other than a weight enum or `None` for 'weights' are deprecated since 0.13 and may be removed in the future. The current behavior is equivalent to passing `weights=None`.\n",
      "  warnings.warn(msg)\n"
     ]
    }
   ],
   "source": [
    "# Load the ResNet-18 model architecture\n",
    "model = models.resnet18(pretrained=False)  # Set pretrained=False because we're loading custom weights\n",
    "num_ftrs = model.fc.in_features\n",
    "model.fc = nn.Linear(num_ftrs, 1)  # Replace the final layer with the same configuration as before"
   ]
  },
  {
   "cell_type": "code",
   "execution_count": 8,
   "metadata": {},
   "outputs": [
    {
     "name": "stderr",
     "output_type": "stream",
     "text": [
      "C:\\Users\\Kaylin\\AppData\\Local\\Temp\\ipykernel_17424\\2773836970.py:3: FutureWarning: You are using `torch.load` with `weights_only=False` (the current default value), which uses the default pickle module implicitly. It is possible to construct malicious pickle data which will execute arbitrary code during unpickling (See https://github.com/pytorch/pytorch/blob/main/SECURITY.md#untrusted-models for more details). In a future release, the default value for `weights_only` will be flipped to `True`. This limits the functions that could be executed during unpickling. Arbitrary objects will no longer be allowed to be loaded via this mode unless they are explicitly allowlisted by the user via `torch.serialization.add_safe_globals`. We recommend you start setting `weights_only=True` for any use case where you don't have full control of the loaded file. Please open an issue on GitHub for any issues related to this experimental feature.\n",
      "  model.load_state_dict(torch.load(trained_resnet_model))\n"
     ]
    }
   ],
   "source": [
    "# Load the trained weights\n",
    "trained_resnet_model = os.path.join('..', '..', 'Models', 'resnet18_best_textureImagesInput.pth')\n",
    "model.load_state_dict(torch.load(trained_resnet_model))\n",
    "\n",
    "# Set the model to evaluation mode\n",
    "model.eval()\n",
    "\n",
    "# Move the model to GPU if available\n",
    "device = torch.device(\"cuda:0\" if torch.cuda.is_available() else \"cpu\")\n",
    "model = model.to(device)\n",
    "\n",
    "# Lists to store true labels and predictions\n",
    "all_labels = []\n",
    "all_preds = []\n",
    "all_probs = []"
   ]
  },
  {
   "cell_type": "code",
   "execution_count": 9,
   "metadata": {},
   "outputs": [],
   "source": [
    "# Testing loop\n",
    "with torch.no_grad():  # Disable gradient calculation for testing\n",
    "    for inputs, labels in test_dataloader:\n",
    "        inputs = inputs.to(device)\n",
    "        labels = labels.to(device).float().unsqueeze(1)\n",
    "\n",
    "        outputs = model(inputs)\n",
    "        probs = torch.sigmoid(outputs)\n",
    "        predicted = (probs > 0.5).float()\n",
    "\n",
    "        all_labels.extend(labels.cpu().numpy())\n",
    "        all_preds.extend(predicted.cpu().numpy())\n",
    "        all_probs.extend(probs.cpu().numpy())\n",
    "\n",
    "# Convert lists to numpy arrays\n",
    "all_labels = np.array(all_labels)\n",
    "all_preds = np.array(all_preds)\n",
    "all_probs = np.array(all_probs)"
   ]
  },
  {
   "cell_type": "code",
   "execution_count": 10,
   "metadata": {},
   "outputs": [
    {
     "name": "stdout",
     "output_type": "stream",
     "text": [
      "Test Accuracy: 93.99%\n"
     ]
    }
   ],
   "source": [
    "# Calculate accuracy\n",
    "accuracy = accuracy_score(all_labels, all_preds)\n",
    "print(f\"Test Accuracy: {accuracy * 100:.2f}%\")"
   ]
  },
  {
   "cell_type": "code",
   "execution_count": 11,
   "metadata": {},
   "outputs": [
    {
     "name": "stdout",
     "output_type": "stream",
     "text": [
      "F1 Score: 0.93\n"
     ]
    }
   ],
   "source": [
    "# Calculate F1 score\n",
    "f1 = f1_score(all_labels, all_preds)\n",
    "print(f\"F1 Score: {f1:.2f}\")"
   ]
  },
  {
   "cell_type": "code",
   "execution_count": 12,
   "metadata": {},
   "outputs": [
    {
     "name": "stdout",
     "output_type": "stream",
     "text": [
      "Precision: 0.98\n",
      "Recall: 0.89\n"
     ]
    }
   ],
   "source": [
    "# Calculate Precision and Recall\n",
    "precision = precision_score(all_labels, all_preds)\n",
    "recall = recall_score(all_labels, all_preds)\n",
    "print(f\"Precision: {precision:.2f}\")\n",
    "print(f\"Recall: {recall:.2f}\")"
   ]
  },
  {
   "cell_type": "code",
   "execution_count": 13,
   "metadata": {},
   "outputs": [
    {
     "name": "stdout",
     "output_type": "stream",
     "text": [
      "ROC AUC Score: 0.98\n"
     ]
    }
   ],
   "source": [
    "# Calculate ROC AUC score\n",
    "roc_auc = roc_auc_score(all_labels, all_probs)\n",
    "print(f\"ROC AUC Score: {roc_auc:.2f}\")"
   ]
  },
  {
   "cell_type": "code",
   "execution_count": 14,
   "metadata": {},
   "outputs": [
    {
     "name": "stdout",
     "output_type": "stream",
     "text": [
      "\n",
      "Classification Report:\n",
      "              precision    recall  f1-score   support\n",
      "\n",
      "         0.0       0.91      0.98      0.95       199\n",
      "         1.0       0.98      0.89      0.93       167\n",
      "\n",
      "    accuracy                           0.94       366\n",
      "   macro avg       0.95      0.94      0.94       366\n",
      "weighted avg       0.94      0.94      0.94       366\n",
      "\n"
     ]
    }
   ],
   "source": [
    "# Classification report\n",
    "print(\"\\nClassification Report:\")\n",
    "print(classification_report(all_labels, all_preds))"
   ]
  },
  {
   "cell_type": "code",
   "execution_count": 15,
   "metadata": {},
   "outputs": [
    {
     "data": {
      "image/png": "[encoded data removed]",
      "text/plain": [
       "<Figure size 600x400 with 2 Axes>"
      ]
     },
     "metadata": {},
     "output_type": "display_data"
    }
   ],
   "source": [
    "# Confusion matrix\n",
    "conf_matrix = confusion_matrix(all_labels, all_preds)\n",
    "plt.figure(figsize=(6, 4))\n",
    "sns.heatmap(conf_matrix, annot=True, fmt=\"d\", cmap=\"Blues\", xticklabels=['Negative', 'Positive'], yticklabels=['Negative', 'Positive'])\n",
    "plt.title(\"Confusion Matrix\")\n",
    "plt.xlabel(\"Predicted\")\n",
    "plt.ylabel(\"Actual\")\n",
    "plt.show()"
   ]
  },
  {
   "cell_type": "code",
   "execution_count": 16,
   "metadata": {},
   "outputs": [
    {
     "data": {
      "image/png": "[encoded data removed]",
      "text/plain": [
       "<Figure size 600x400 with 1 Axes>"
      ]
     },
     "metadata": {},
     "output_type": "display_data"
    }
   ],
   "source": [
    "# ROC Curve\n",
    "fpr, tpr, _ = roc_curve(all_labels, all_probs)\n",
    "plt.figure(figsize=(6, 4))\n",
    "plt.plot(fpr, tpr, color='darkorange', lw=2, label=f'ROC curve (area = {roc_auc:.2f})')\n",
    "plt.plot([0, 1], [0, 1], color='navy', lw=2, linestyle='--')\n",
    "plt.xlabel('False Positive Rate')\n",
    "plt.ylabel('True Positive Rate')\n",
    "plt.title('ROC Curve')\n",
    "plt.legend(loc=\"lower right\")\n",
    "plt.show()"
   ]
  },
  {
   "cell_type": "code",
   "execution_count": 17,
   "metadata": {},
   "outputs": [
    {
     "data": {
      "image/png": "[encoded data removed]",
      "text/plain": [
       "<Figure size 600x400 with 1 Axes>"
      ]
     },
     "metadata": {},
     "output_type": "display_data"
    }
   ],
   "source": [
    "# Precision-Recall curve\n",
    "precision_vals, recall_vals, thresholds = precision_recall_curve(all_labels, all_probs)\n",
    "plt.figure(figsize=(6, 4))\n",
    "plt.plot(recall_vals, precision_vals, marker='.')\n",
    "plt.title(\"Precision-Recall Curve\")\n",
    "plt.xlabel(\"Recall\")\n",
    "plt.ylabel(\"Precision\")\n",
    "plt.show()"
   ]
  }
 ],
 "metadata": {
  "kernelspec": {
   "display_name": "InvestigationEnv",
   "language": "python",
   "name": "python3"
  },
  "language_info": {
   "codemirror_mode": {
    "name": "ipython",
    "version": 3
   },
   "file_extension": ".py",
   "mimetype": "text/x-python",
   "name": "python",
   "nbconvert_exporter": "python",
   "pygments_lexer": "ipython3",
   "version": "3.12.5"
  }
 },
 "nbformat": 4,
 "nbformat_minor": 2
}
